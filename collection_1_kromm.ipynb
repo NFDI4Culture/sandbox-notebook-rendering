{
 "cells": [
  {
   "cell_type": "raw",
   "metadata": {},
   "source": [
    "---\n",
    "title: \"Sample Collection Kromm\"\n",
    "jupyter: python3\n",
    "execute:\n",
    "  echo: false\n",
    "  output: asis\n",
    "---"
   ]
  },
  {
   "attachments": {},
   "cell_type": "markdown",
   "metadata": {},
   "source": [
    "From: https://w.wiki/6Ww7 "
   ]
  },
  {
   "cell_type": "code",
   "execution_count": 2,
   "metadata": {},
   "outputs": [],
   "source": [
    "# pip install sparqlwrapper\n",
    "# https://rdflib.github.io/sparqlwrapper/\n",
    "\n",
    "import sys\n",
    "from SPARQLWrapper import SPARQLWrapper, JSON\n",
    "\n",
    "from PIL import Image\n",
    "import requests\n",
    "\n",
    "endpoint_url = \"https://query.wikidata.org/sparql\"\n",
    "\n",
    "query = \"\"\"#defaultView:ImageGrid\n",
    "SELECT ?item ?itemLabel ?inceptionyear ?creator ?creatorLabel ?copyright ?copyrightLabel ?image\n",
    "WHERE\n",
    "{\n",
    "  # find items which:\n",
    "  # are instances of (wdt:P31) paintings (wd:Q3305213)\n",
    "  # have the property (wdt:P195) of being in collection wd:Q1499958 (Kunstmuseum Den Haag https://www.wikidata.org/wiki/Wikidata:WikiProject_sum_of_all_paintings/Collection/Kunstmuseum_Den_Haag)\n",
    "  ?item wdt:P31 wd:Q3305213 .\n",
    "  ?item wdt:P195 wd:Q1499958 .\n",
    "  # get the item's creator property (wdt:P170)\n",
    "  ?item wdt:P170 ?creator .\n",
    "  # get the item's image property (wdt:P18)\n",
    "  ?item wdt:P18 ?image .\n",
    "  # get the item's copyright status (wdt:P6216)\n",
    "  ?item wdt:P6216 ?copyright . \n",
    "  {\n",
    "    ?item wdt:P571 ?inception.\n",
    "    BIND(YEAR(?inception) AS ?inceptionyear)\n",
    "  }\n",
    "\n",
    "  # filter out all paintings not created between the years 1600 and 1700\n",
    "  FILTER((1600  <= ?inceptionyear) && (?inceptionyear < 1700 ))\n",
    "  SERVICE wikibase:label { bd:serviceParam wikibase:language \"[AUTO_LANGUAGE],en\". } }\n",
    "# limit to nine results\n",
    "LIMIT 9\"\"\"\n",
    "\n",
    "\n",
    "def get_results(endpoint_url, query):\n",
    "    user_agent = \"WDQS-example Python/%s.%s\" % (sys.version_info[0], sys.version_info[1])\n",
    "    # TODO adjust user agent; see https://w.wiki/CX6\n",
    "    sparql = SPARQLWrapper(endpoint_url, agent=user_agent)\n",
    "    sparql.setQuery(query)\n",
    "    sparql.setReturnFormat(JSON)\n",
    "    return sparql.query().convert()\n",
    "\n",
    "\n",
    "results = get_results(endpoint_url, query)\n",
    "\n",
    "for result in results[\"results\"][\"bindings\"]:\n",
    "    print(result)\n"
   ]
  }
 ],
 "metadata": {
  "kernelspec": {
   "display_name": "Python 3",
   "language": "python",
   "name": "python3"
  },
  "language_info": {
   "codemirror_mode": {
    "name": "ipython",
    "version": 3
   },
   "file_extension": ".py",
   "mimetype": "text/x-python",
   "name": "python",
   "nbconvert_exporter": "python",
   "pygments_lexer": "ipython3",
   "version": "3.9.5"
  },
  "orig_nbformat": 4
 },
 "nbformat": 4,
 "nbformat_minor": 2
}
