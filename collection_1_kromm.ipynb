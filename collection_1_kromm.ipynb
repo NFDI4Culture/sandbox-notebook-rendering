{
 "cells": [
  {
   "cell_type": "raw",
   "metadata": {},
   "source": [
    "---\n",
    "title: \"Sample Collection Kromm\"\n",
    "jupyter: python3\n",
    "execute:\n",
    "  echo: false\n",
    "  output: asis\n",
    "---"
   ]
  },
  {
   "attachments": {},
   "cell_type": "markdown",
   "metadata": {},
   "source": [
    "From: https://w.wiki/6Ww7 "
   ]
  },
  {
   "cell_type": "code",
   "execution_count": 1,
   "metadata": {},
   "outputs": [
    {
     "name": "stdout",
     "output_type": "stream",
     "text": [
      "{'item': {'type': 'uri', 'value': 'http://www.wikidata.org/entity/Q24451307'}, 'creator': {'type': 'uri', 'value': 'http://www.wikidata.org/entity/Q864403'}, 'copyright': {'type': 'uri', 'value': 'http://www.wikidata.org/entity/Q19652'}, 'image': {'type': 'uri', 'value': 'http://commons.wikimedia.org/wiki/Special:FilePath/Van%20den%20Kerckhoven%20door%20Jan%20Mijtens.jpg'}, 'itemLabel': {'xml:lang': 'en', 'type': 'literal', 'value': 'Willem van den Kerckhoven and his Family'}, 'creatorLabel': {'xml:lang': 'en', 'type': 'literal', 'value': 'Johannes Mytens'}, 'copyrightLabel': {'xml:lang': 'en', 'type': 'literal', 'value': 'public domain'}, 'inceptionyear': {'datatype': 'http://www.w3.org/2001/XMLSchema#integer', 'type': 'literal', 'value': '1652'}}\n",
      "{'item': {'type': 'uri', 'value': 'http://www.wikidata.org/entity/Q27538256'}, 'creator': {'type': 'uri', 'value': 'http://www.wikidata.org/entity/Q330848'}, 'copyright': {'type': 'uri', 'value': 'http://www.wikidata.org/entity/Q19652'}, 'image': {'type': 'uri', 'value': 'http://commons.wikimedia.org/wiki/Special:FilePath/Nature%20morte%20%C3%A0%20la%20carpe%20-%20Abraham%20Hendricksz.%20van%20Beyeren%20-%20Mus%C3%A9e%20du%20Louvre%20Peintures%20RF%201995%2015.jpg'}, 'itemLabel': {'xml:lang': 'en', 'type': 'literal', 'value': 'Still-life with Carp'}, 'creatorLabel': {'xml:lang': 'en', 'type': 'literal', 'value': 'Abraham van Beijeren'}, 'copyrightLabel': {'xml:lang': 'en', 'type': 'literal', 'value': 'public domain'}, 'inceptionyear': {'datatype': 'http://www.w3.org/2001/XMLSchema#integer', 'type': 'literal', 'value': '1647'}}\n",
      "{'item': {'type': 'uri', 'value': 'http://www.wikidata.org/entity/Q28060097'}, 'creator': {'type': 'uri', 'value': 'http://www.wikidata.org/entity/Q2175259'}, 'copyright': {'type': 'uri', 'value': 'http://www.wikidata.org/entity/Q19652'}, 'image': {'type': 'uri', 'value': 'http://commons.wikimedia.org/wiki/Special:FilePath/P.%20Franchoys%20-%20Twee%20musicerende%20mannen%20-%20NK2510%20-%20Cultural%20Heritage%20Agency%20of%20the%20Netherlands%20Art%20Collection.jpg'}, 'itemLabel': {'type': 'literal', 'value': 'Q28060097'}, 'creatorLabel': {'xml:lang': 'en', 'type': 'literal', 'value': 'Lucas Franchoys the Younger'}, 'copyrightLabel': {'xml:lang': 'en', 'type': 'literal', 'value': 'public domain'}, 'inceptionyear': {'datatype': 'http://www.w3.org/2001/XMLSchema#integer', 'type': 'literal', 'value': '1642'}}\n",
      "{'item': {'type': 'uri', 'value': 'http://www.wikidata.org/entity/Q28060433'}, 'creator': {'type': 'uri', 'value': 'http://www.wikidata.org/entity/Q550146'}, 'copyright': {'type': 'uri', 'value': 'http://www.wikidata.org/entity/Q19652'}, 'image': {'type': 'uri', 'value': 'http://commons.wikimedia.org/wiki/Special:FilePath/G.%20van%20den%20Eeckhout%20-%20Musicerend%20gezelschap%20-%20NK2509%20-%20Cultural%20Heritage%20Agency%20of%20the%20Netherlands%20Art%20Collection.jpg'}, 'itemLabel': {'xml:lang': 'en', 'type': 'literal', 'value': 'musical party'}, 'creatorLabel': {'xml:lang': 'en', 'type': 'literal', 'value': 'Gerbrand van den Eeckhout'}, 'copyrightLabel': {'xml:lang': 'en', 'type': 'literal', 'value': 'public domain'}, 'inceptionyear': {'datatype': 'http://www.w3.org/2001/XMLSchema#integer', 'type': 'literal', 'value': '1657'}}\n",
      "{'item': {'type': 'uri', 'value': 'http://www.wikidata.org/entity/Q28060433'}, 'creator': {'type': 'uri', 'value': 'http://www.wikidata.org/entity/Q550146'}, 'copyright': {'type': 'uri', 'value': 'http://www.wikidata.org/entity/Q19652'}, 'image': {'type': 'uri', 'value': 'http://commons.wikimedia.org/wiki/Special:FilePath/Gerbrand%20van%20den%20Eeckhout%20%281621-1674%29%20-%20Musizierende%20Gesellschaft%20%28Gesellschaftsst%C3%BCck%29%20-%201307%20-%20F%C3%BChrermuseum.jpg'}, 'itemLabel': {'xml:lang': 'en', 'type': 'literal', 'value': 'musical party'}, 'creatorLabel': {'xml:lang': 'en', 'type': 'literal', 'value': 'Gerbrand van den Eeckhout'}, 'copyrightLabel': {'xml:lang': 'en', 'type': 'literal', 'value': 'public domain'}, 'inceptionyear': {'datatype': 'http://www.w3.org/2001/XMLSchema#integer', 'type': 'literal', 'value': '1657'}}\n",
      "{'item': {'type': 'uri', 'value': 'http://www.wikidata.org/entity/Q28061670'}, 'creator': {'type': 'uri', 'value': 'http://www.wikidata.org/entity/Q988828'}, 'copyright': {'type': 'uri', 'value': 'http://www.wikidata.org/entity/Q19652'}, 'image': {'type': 'uri', 'value': 'http://commons.wikimedia.org/wiki/Special:FilePath/Mozes%20van%20Uijtenbrouck%20%28Uytenbroeck%29%28Wttenbroeck%29%20%281590-1646%29%20-%20Flusslandschaft%20mit%20badenden%20Frauen%20%28Hermaphroditus%20und%20Salmacis%29%20-%202780%20-%20F%C3%BChrermuseum.jpg'}, 'itemLabel': {'xml:lang': 'en', 'type': 'literal', 'value': 'Arcadian landscape'}, 'creatorLabel': {'xml:lang': 'en', 'type': 'literal', 'value': 'Moses van Uyttenbroeck'}, 'copyrightLabel': {'xml:lang': 'en', 'type': 'literal', 'value': 'public domain'}, 'inceptionyear': {'datatype': 'http://www.w3.org/2001/XMLSchema#integer', 'type': 'literal', 'value': '1615'}}\n",
      "{'item': {'type': 'uri', 'value': 'http://www.wikidata.org/entity/Q28094197'}, 'creator': {'type': 'uri', 'value': 'http://www.wikidata.org/.well-known/genid/fe3ac095438ca74a6fe6f49001bc25bd'}, 'copyright': {'type': 'uri', 'value': 'http://www.wikidata.org/entity/Q19652'}, 'image': {'type': 'uri', 'value': 'http://commons.wikimedia.org/wiki/Special:FilePath/M.J.%20van%20Miereveld%20-%20Nicolaas%20Cromhout%20%281561-1641%29%2C%20President%20van%20het%20Hof%20van%20Holland%20-%20C504%20-%20Cultural%20Heritage%20Agency%20of%20the%20Netherlands%20Art%20Collection.jpg'}, 'itemLabel': {'xml:lang': 'en', 'type': 'literal', 'value': 'Portrait of dr. Nicolaes Cromhout (1561-1641)'}, 'creatorLabel': {'type': 'literal', 'value': 'http://www.wikidata.org/.well-known/genid/fe3ac095438ca74a6fe6f49001bc25bd'}, 'copyrightLabel': {'xml:lang': 'en', 'type': 'literal', 'value': 'public domain'}, 'inceptionyear': {'datatype': 'http://www.w3.org/2001/XMLSchema#integer', 'type': 'literal', 'value': '1622'}}\n",
      "{'item': {'type': 'uri', 'value': 'http://www.wikidata.org/entity/Q28113306'}, 'creator': {'type': 'uri', 'value': 'http://www.wikidata.org/entity/Q874537'}, 'copyright': {'type': 'uri', 'value': 'http://www.wikidata.org/entity/Q19652'}, 'image': {'type': 'uri', 'value': 'http://commons.wikimedia.org/wiki/Special:FilePath/Pieter%20Quast%20-%20The%20Triumph%20of%20Folly%2C%20Brutus%20Playing%20the%20Fool%20before%20King%20Tarquinius%20-%20447%20-%20Mauritshuis.jpg'}, 'itemLabel': {'xml:lang': 'en', 'type': 'literal', 'value': 'The Triumph of Folly: Brutus Playing the Fool before King Tarquinius'}, 'creatorLabel': {'xml:lang': 'en', 'type': 'literal', 'value': 'Pieter Quast'}, 'copyrightLabel': {'xml:lang': 'en', 'type': 'literal', 'value': 'public domain'}, 'inceptionyear': {'datatype': 'http://www.w3.org/2001/XMLSchema#integer', 'type': 'literal', 'value': '1643'}}\n",
      "{'item': {'type': 'uri', 'value': 'http://www.wikidata.org/entity/Q28113306'}, 'creator': {'type': 'uri', 'value': 'http://www.wikidata.org/entity/Q874537'}, 'copyright': {'type': 'uri', 'value': 'http://www.wikidata.org/entity/Q19652'}, 'image': {'type': 'uri', 'value': 'http://commons.wikimedia.org/wiki/Special:FilePath/The%20Triumph%20of%20Folly%20by%20Pieter%20Quast%20Mauritshuis%20447.jpg'}, 'itemLabel': {'xml:lang': 'en', 'type': 'literal', 'value': 'The Triumph of Folly: Brutus Playing the Fool before King Tarquinius'}, 'creatorLabel': {'xml:lang': 'en', 'type': 'literal', 'value': 'Pieter Quast'}, 'copyrightLabel': {'xml:lang': 'en', 'type': 'literal', 'value': 'public domain'}, 'inceptionyear': {'datatype': 'http://www.w3.org/2001/XMLSchema#integer', 'type': 'literal', 'value': '1643'}}\n"
     ]
    }
   ],
   "source": [
    "# pip install sparqlwrapper\n",
    "# https://rdflib.github.io/sparqlwrapper/\n",
    "\n",
    "import sys\n",
    "from SPARQLWrapper import SPARQLWrapper, JSON\n",
    "\n",
    "from PIL import Image\n",
    "import requests\n",
    "\n",
    "endpoint_url = \"https://query.wikidata.org/sparql\"\n",
    "\n",
    "query = \"\"\"#defaultView:ImageGrid\n",
    "SELECT ?item ?itemLabel ?inceptionyear ?creator ?creatorLabel ?copyright ?copyrightLabel ?image\n",
    "WHERE\n",
    "{\n",
    "  # find items which:\n",
    "  # are instances of (wdt:P31) paintings (wd:Q3305213)\n",
    "  # have the property (wdt:P195) of being in collection wd:Q1499958 (Kunstmuseum Den Haag https://www.wikidata.org/wiki/Wikidata:WikiProject_sum_of_all_paintings/Collection/Kunstmuseum_Den_Haag)\n",
    "  ?item wdt:P31 wd:Q3305213 .\n",
    "  ?item wdt:P195 wd:Q1499958 .\n",
    "  # get the item's creator property (wdt:P170)\n",
    "  ?item wdt:P170 ?creator .\n",
    "  # get the item's image property (wdt:P18)\n",
    "  ?item wdt:P18 ?image .\n",
    "  # get the item's copyright status (wdt:P6216)\n",
    "  ?item wdt:P6216 ?copyright . \n",
    "  {\n",
    "    ?item wdt:P571 ?inception.\n",
    "    BIND(YEAR(?inception) AS ?inceptionyear)\n",
    "  }\n",
    "\n",
    "  # filter out all paintings not created between the years 1600 and 1700\n",
    "  FILTER((1600  <= ?inceptionyear) && (?inceptionyear < 1700 ))\n",
    "  SERVICE wikibase:label { bd:serviceParam wikibase:language \"[AUTO_LANGUAGE],en\". } }\n",
    "# limit to nine results\n",
    "LIMIT 9\"\"\"\n",
    "\n",
    "\n",
    "def get_results(endpoint_url, query):\n",
    "    user_agent = \"WDQS-example Python/%s.%s\" % (sys.version_info[0], sys.version_info[1])\n",
    "    # TODO adjust user agent; see https://w.wiki/CX6\n",
    "    sparql = SPARQLWrapper(endpoint_url, agent=user_agent)\n",
    "    sparql.setQuery(query)\n",
    "    sparql.setReturnFormat(JSON)\n",
    "    return sparql.query().convert()\n",
    "\n",
    "\n",
    "results = get_results(endpoint_url, query)\n",
    "\n",
    "for result in results[\"results\"][\"bindings\"]:\n",
    "    print(result)\n"
   ]
  }
 ],
 "metadata": {
  "kernelspec": {
   "display_name": "Python 3",
   "language": "python",
   "name": "python3"
  },
  "language_info": {
   "codemirror_mode": {
    "name": "ipython",
    "version": 3
   },
   "file_extension": ".py",
   "mimetype": "text/x-python",
   "name": "python",
   "nbconvert_exporter": "python",
   "pygments_lexer": "ipython3",
   "version": "3.9.5"
  },
  "orig_nbformat": 4
 },
 "nbformat": 4,
 "nbformat_minor": 2
}
