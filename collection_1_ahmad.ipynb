{
 "cells": [
  {
   "cell_type": "raw",
   "metadata": {},
   "source": [
    "---\n",
    "title: \"Sample Collection Ahmad\"\n",
    "jupyter: python3\n",
    "execute:\n",
    "  echo: false\n",
    "  output: asis\n",
    "---"
   ]
  },
  {
   "attachments": {},
   "cell_type": "markdown",
   "metadata": {},
   "source": [
    "From: https://w.wiki/6a6J "
   ]
  },
  {
   "cell_type": "code",
   "execution_count": 1,
   "metadata": {},
   "outputs": [
    {
     "name": "stdout",
     "output_type": "stream",
     "text": [
      "{'item': {'type': 'uri', 'value': 'http://www.wikidata.org/entity/Q27978030'}, 'creator': {'type': 'uri', 'value': 'http://www.wikidata.org/.well-known/genid/e1a1d42edd6898f08870940f93af92bb'}, 'image': {'type': 'uri', 'value': 'http://commons.wikimedia.org/wiki/Special:FilePath/Anonymous%20-%20Papst%20Innozenz%20XI.%20%281611-1689%29%20-%20GG%205603%20-%20Kunsthistorisches%20Museum.jpg'}, 'itemLabel': {'type': 'literal', 'value': 'Q27978030'}, 'creatorLabel': {'type': 'literal', 'value': 'http://www.wikidata.org/.well-known/genid/e1a1d42edd6898f08870940f93af92bb'}}\n",
      "{'item': {'type': 'uri', 'value': 'http://www.wikidata.org/entity/Q27978034'}, 'creator': {'type': 'uri', 'value': 'http://www.wikidata.org/.well-known/genid/c11b26a08ab822f4ac67111d6a1c347d'}, 'image': {'type': 'uri', 'value': 'http://commons.wikimedia.org/wiki/Special:FilePath/Portrait%20of%20Francesco%20Donato%2C%20Doge%20of%20Venice%20GG%203062.jpg'}, 'itemLabel': {'type': 'literal', 'value': 'Q27978034'}, 'creatorLabel': {'type': 'literal', 'value': 'http://www.wikidata.org/.well-known/genid/c11b26a08ab822f4ac67111d6a1c347d'}}\n",
      "{'item': {'type': 'uri', 'value': 'http://www.wikidata.org/entity/Q27978038'}, 'creator': {'type': 'uri', 'value': 'http://www.wikidata.org/entity/Q651795'}, 'image': {'type': 'uri', 'value': 'http://commons.wikimedia.org/wiki/Special:FilePath/Jacopo%20Negretti%2C%20gen.%20Palma%20il%20Giovane%2C%20%2C%20Schloss%20Ambras%20Innsbruck%20-%20Niccolo%20da%20Ponte%20%281491-1585%29%2C%20Doge%20von%20Venedig%20-%20GG%2038%20-%20Kunsthistorisches%20Museum.jpg'}, 'itemLabel': {'type': 'literal', 'value': 'Q27978038'}, 'creatorLabel': {'type': 'literal', 'value': 'Q651795'}}\n",
      "{'item': {'type': 'uri', 'value': 'http://www.wikidata.org/entity/Q27978039'}, 'creator': {'type': 'uri', 'value': 'http://www.wikidata.org/.well-known/genid/978a9fa5439228d315e593fef98918f4'}, 'image': {'type': 'uri', 'value': 'http://commons.wikimedia.org/wiki/Special:FilePath/Anonymous%20-%20Marcantonio%20Barbaro%20%281518-1595%29%20als%20Gesandter%20in%20Konstantinopel%20-%20GG%2029%20-%20Kunsthistorisches%20Museum.jpg'}, 'itemLabel': {'type': 'literal', 'value': 'Q27978039'}, 'creatorLabel': {'type': 'literal', 'value': 'http://www.wikidata.org/.well-known/genid/978a9fa5439228d315e593fef98918f4'}}\n",
      "{'item': {'type': 'uri', 'value': 'http://www.wikidata.org/entity/Q27978043'}, 'creator': {'type': 'uri', 'value': 'http://www.wikidata.org/entity/Q2632216'}, 'image': {'type': 'uri', 'value': 'http://commons.wikimedia.org/wiki/Special:FilePath/Scipione%20Pulzone%20-%20Bianca%20Cappello%20%281584%2C%20KHM%29.jpg'}, 'itemLabel': {'type': 'literal', 'value': 'Q27978043'}, 'creatorLabel': {'type': 'literal', 'value': 'Q2632216'}}\n",
      "{'item': {'type': 'uri', 'value': 'http://www.wikidata.org/entity/Q27978048'}, 'creator': {'type': 'uri', 'value': 'http://www.wikidata.org/entity/Q934540'}, 'image': {'type': 'uri', 'value': 'http://commons.wikimedia.org/wiki/Special:FilePath/Frans%20Pourbus%20the%20Younger%20-%20Portrait%20of%20Vicenzo%20I.%20Gonzaga%2C%20Duke%20of%20Mantua.jpg'}, 'itemLabel': {'type': 'literal', 'value': 'Q27978048'}, 'creatorLabel': {'type': 'literal', 'value': 'Q934540'}}\n",
      "{'item': {'type': 'uri', 'value': 'http://www.wikidata.org/entity/Q27978051'}, 'creator': {'type': 'uri', 'value': 'http://www.wikidata.org/.well-known/genid/ca000ef5d74f8c9aafa72037332af757'}, 'image': {'type': 'uri', 'value': 'http://commons.wikimedia.org/wiki/Special:FilePath/Anonymous%20-%20Eleonore%20von%20Gonzaga%20%281598-1655%29%2C%20Kaiserin%2C%20im%20Alter%20von%20zwei%20Jahren%2C%20Kniest%C3%BCck%20-%20GG%203339%20-%20Kunsthistorisches%20Museum.jpg'}, 'itemLabel': {'type': 'literal', 'value': 'Q27978051'}, 'creatorLabel': {'type': 'literal', 'value': 'http://www.wikidata.org/.well-known/genid/ca000ef5d74f8c9aafa72037332af757'}}\n",
      "{'item': {'type': 'uri', 'value': 'http://www.wikidata.org/entity/Q27978051'}, 'creator': {'type': 'uri', 'value': 'http://www.wikidata.org/.well-known/genid/ca000ef5d74f8c9aafa72037332af757'}, 'image': {'type': 'uri', 'value': 'http://commons.wikimedia.org/wiki/Special:FilePath/Eleonora%20Gonzaga%20001.jpg'}, 'itemLabel': {'type': 'literal', 'value': 'Q27978051'}, 'creatorLabel': {'type': 'literal', 'value': 'http://www.wikidata.org/.well-known/genid/ca000ef5d74f8c9aafa72037332af757'}}\n",
      "{'item': {'type': 'uri', 'value': 'http://www.wikidata.org/entity/Q27978054'}, 'creator': {'type': 'uri', 'value': 'http://www.wikidata.org/entity/Q974195'}, 'image': {'type': 'uri', 'value': 'http://commons.wikimedia.org/wiki/Special:FilePath/Justus%20Sustermans%20-%20Eleonora%20Gonzaga%20%281598-1655%29%2C%20wife%20of%20Ferdinand%20II%2C%20in%20wedding%20dress.jpg'}, 'itemLabel': {'type': 'literal', 'value': 'Q27978054'}, 'creatorLabel': {'type': 'literal', 'value': 'Q974195'}}\n",
      "{'item': {'type': 'uri', 'value': 'http://www.wikidata.org/entity/Q27978054'}, 'creator': {'type': 'uri', 'value': 'http://www.wikidata.org/entity/Q974195'}, 'image': {'type': 'uri', 'value': 'http://commons.wikimedia.org/wiki/Special:FilePath/Justus%20Sustermans%2C%20%2C%20Schloss%20Ambras%20Innsbruck%20-%20Eleonore%20von%20Gonzaga%20%281598-1655%29%2C%202.%20Gemahlin%20von%20Ferdinand%20II.%2C%20im%20Brautkleid%20-%20GG%207146%20-%20Kunsthistorisches%20Museum.jpg'}, 'itemLabel': {'type': 'literal', 'value': 'Q27978054'}, 'creatorLabel': {'type': 'literal', 'value': 'Q974195'}}\n",
      "{'item': {'type': 'uri', 'value': 'http://www.wikidata.org/entity/Q27978055'}, 'creator': {'type': 'uri', 'value': 'http://www.wikidata.org/entity/Q974195'}, 'image': {'type': 'uri', 'value': 'http://commons.wikimedia.org/wiki/Special:FilePath/Justus%20Sustermans%20-%20Eleonora%20Gonzaga%20%281598-1655%29%2C%20Empress%20in%20black%20dress.jpg'}, 'itemLabel': {'type': 'literal', 'value': 'Q27978055'}, 'creatorLabel': {'type': 'literal', 'value': 'Q974195'}}\n",
      "{'item': {'type': 'uri', 'value': 'http://www.wikidata.org/entity/Q27978056'}, 'creator': {'type': 'uri', 'value': 'http://www.wikidata.org/entity/Q700524'}, 'image': {'type': 'uri', 'value': 'http://commons.wikimedia.org/wiki/Special:FilePath/Frans%20Luycx%20-%20Eleonora%20Gonzaga%20as%20Diana%2C%20Holy%20Empress%2C%203rd%20wife%20of%20Ferdinand%20III.jpg'}, 'itemLabel': {'type': 'literal', 'value': 'Q27978056'}, 'creatorLabel': {'type': 'literal', 'value': 'Q700524'}}\n",
      "{'item': {'type': 'uri', 'value': 'http://www.wikidata.org/entity/Q27978058'}, 'creator': {'type': 'uri', 'value': 'http://www.wikidata.org/.well-known/genid/609c2e55a3e1deab200782a4d5806d4b'}, 'image': {'type': 'uri', 'value': 'http://commons.wikimedia.org/wiki/Special:FilePath/Cosimo%20I%20de%27%20Medici%20by%20Agnolo%20Bronzino.jpg'}, 'itemLabel': {'type': 'literal', 'value': 'Q27978058'}, 'creatorLabel': {'type': 'literal', 'value': 'http://www.wikidata.org/.well-known/genid/609c2e55a3e1deab200782a4d5806d4b'}}\n",
      "{'item': {'type': 'uri', 'value': 'http://www.wikidata.org/entity/Q27978061'}, 'creator': {'type': 'uri', 'value': 'http://www.wikidata.org/entity/Q2256804'}, 'image': {'type': 'uri', 'value': 'http://commons.wikimedia.org/wiki/Special:FilePath/Giovanni%20Bizzelli%2C%20%2C%20Schloss%20Ambras%20Innsbruck%20-%20Gro%C3%9Fherzog%20Francesco%20I.%20%281541-1587%29%20von%20Toskana%20-%20GG%20288%20-%20Kunsthistorisches%20Museum.jpg'}, 'itemLabel': {'type': 'literal', 'value': 'Q27978061'}, 'creatorLabel': {'type': 'literal', 'value': 'Q2256804'}}\n",
      "{'item': {'type': 'uri', 'value': 'http://www.wikidata.org/entity/Q27978062'}, 'creator': {'type': 'uri', 'value': 'http://www.wikidata.org/entity/Q2632216'}, 'image': {'type': 'uri', 'value': 'http://commons.wikimedia.org/wiki/Special:FilePath/Gro%C3%9Fherzog%20Ferdinando%20I.%20Toskana.jpg'}, 'itemLabel': {'type': 'literal', 'value': 'Q27978062'}, 'creatorLabel': {'type': 'literal', 'value': 'Q2632216'}}\n"
     ]
    }
   ],
   "source": [
    "from SPARQLWrapper import SPARQLWrapper, JSON\n",
    "from PIL import Image\n",
    "import requests\n",
    "\n",
    "# VARIABLES\n",
    "\n",
    "sparql_endpoint_url = 'https://query.wikidata.org/bigdata/namespace/wdq/sparql'\n",
    "wikibase_url = 'https://www.wikidata.org'\n",
    "api_url = '/w/api.php'\n",
    "\n",
    "# Wikidata requires a user agent header to prevent spam requests\n",
    "user_agent = 'Ex_Books_conference_bot/0.0 (https://github.com/SimonXIX/Experimental_Books_workshop; ad7588@coventry.ac.uk)'\n",
    "\n",
    "# pip install sparqlwrapper\n",
    "# https://rdflib.github.io/sparqlwrapper/\n",
    "\n",
    "import sys\n",
    "from SPARQLWrapper import SPARQLWrapper, JSON\n",
    "\n",
    "endpoint_url = \"https://query.wikidata.org/sparql\"\n",
    "\n",
    "query = \"\"\"SELECT ?item ?itemLabel ?inceptionyear ?creator ?creatorLabel ?image\n",
    "WHERE\n",
    "{\n",
    "  ?item wdt:P31 wd:Q3305213 ;\n",
    "        wdt:P195 wd:Q95569 ;\n",
    "        wdt:P170 ?creator ;\n",
    "        wdt:P18 ?image .\n",
    "\n",
    "  OPTIONAL { ?item wdt:P571 ?inception. }\n",
    "  FILTER(YEAR(?inception) >= 1500 && YEAR(?inception) < 1700)\n",
    "\n",
    "  SERVICE wikibase:label { bd:serviceParam wikibase:language \"[AUTO_LANGUAGE]\". }\n",
    "}\n",
    "LIMIT 15\n",
    "\"\"\"\n",
    "\n",
    "\n",
    "def get_results(endpoint_url, query):\n",
    "    user_agent = \"WDQS-example Python/%s.%s\" % (sys.version_info[0], sys.version_info[1])\n",
    "    # TODO adjust user agent; see https://w.wiki/CX6\n",
    "    sparql = SPARQLWrapper(endpoint_url, agent=user_agent)\n",
    "    sparql.setQuery(query)\n",
    "    sparql.setReturnFormat(JSON)\n",
    "    return sparql.query().convert()\n",
    "\n",
    "\n",
    "results = get_results(endpoint_url, query)\n",
    "\n",
    "for result in results[\"results\"][\"bindings\"]:\n",
    "    print(result)\n"
   ]
  }
 ],
 "metadata": {
  "kernelspec": {
   "display_name": "Python 3",
   "language": "python",
   "name": "python3"
  },
  "language_info": {
   "codemirror_mode": {
    "name": "ipython",
    "version": 3
   },
   "file_extension": ".py",
   "mimetype": "text/x-python",
   "name": "python",
   "nbconvert_exporter": "python",
   "pygments_lexer": "ipython3",
   "version": "3.9.5"
  },
  "orig_nbformat": 4
 },
 "nbformat": 4,
 "nbformat_minor": 2
}
