{
 "cells": [
  {
   "cell_type": "raw",
   "metadata": {},
   "source": [
    "---\n",
    "title: \"Sample Collection Ahmad\"\n",
    "jupyter: python3\n",
    "execute:\n",
    "  echo: false\n",
    "  output: asis\n",
    "---"
   ]
  },
  {
   "attachments": {},
   "cell_type": "markdown",
   "metadata": {},
   "source": [
    "From: https://w.wiki/6a6J "
   ]
  },
  {
   "cell_type": "code",
   "execution_count": 1,
   "metadata": {},
   "outputs": [
    {
     "name": "stdout",
     "output_type": "stream",
     "text": [
      "{'item': {'type': 'uri', 'value': 'http://www.wikidata.org/entity/Q27978235'}, 'creator': {'type': 'uri', 'value': 'http://www.wikidata.org/entity/Q705079'}, 'image': {'type': 'uri', 'value': 'http://commons.wikimedia.org/wiki/Special:FilePath/Francesco%20da%20Ponte%2C%20gen.%20Francesco%20Bassano%20-%20Sommer%20%28Opferung%20Isaaks%29%20-%20GG%204302%20-%20Kunsthistorisches%20Museum.jpg'}, 'itemLabel': {'type': 'literal', 'value': 'Q27978235'}, 'creatorLabel': {'type': 'literal', 'value': 'Q705079'}}\n",
      "{'item': {'type': 'uri', 'value': 'http://www.wikidata.org/entity/Q27978238'}, 'creator': {'type': 'uri', 'value': 'http://www.wikidata.org/entity/Q705079'}, 'image': {'type': 'uri', 'value': 'http://commons.wikimedia.org/wiki/Special:FilePath/Francesco%20da%20Ponte%2C%20gen.%20Francesco%20Bassano%20-%20Herbst%20%28Moses%20empf%C3%A4ngt%20die%20Gesetzestafeln%29%20-%20GG%204304%20-%20Kunsthistorisches%20Museum.jpg'}, 'itemLabel': {'type': 'literal', 'value': 'Q27978238'}, 'creatorLabel': {'type': 'literal', 'value': 'Q705079'}}\n",
      "{'item': {'type': 'uri', 'value': 'http://www.wikidata.org/entity/Q27978239'}, 'creator': {'type': 'uri', 'value': 'http://www.wikidata.org/entity/Q705079'}, 'image': {'type': 'uri', 'value': 'http://commons.wikimedia.org/wiki/Special:FilePath/Francesco%20da%20Ponte%2C%20gen.%20Francesco%20Bassano%20-%20Verspottung%20Christi%20-%20GG%205810%20-%20Kunsthistorisches%20Museum.jpg'}, 'itemLabel': {'type': 'literal', 'value': 'Q27978239'}, 'creatorLabel': {'type': 'literal', 'value': 'Q705079'}}\n",
      "{'item': {'type': 'uri', 'value': 'http://www.wikidata.org/entity/Q27978241'}, 'creator': {'type': 'uri', 'value': 'http://www.wikidata.org/entity/Q705079'}, 'image': {'type': 'uri', 'value': 'http://commons.wikimedia.org/wiki/Special:FilePath/Francesco%20da%20Ponte%2C%20gen.%20Francesco%20Bassano%20-%20Bildnis%20eines%20b%C3%A4rtigen%20Mannes%20mit%20Sanduhr%20und%20Astrolabium%20-%20GG%205775%20-%20Kunsthistorisches%20Museum.jpg'}, 'itemLabel': {'type': 'literal', 'value': 'Q27978241'}, 'creatorLabel': {'type': 'literal', 'value': 'Q705079'}}\n",
      "{'item': {'type': 'uri', 'value': 'http://www.wikidata.org/entity/Q27978242'}, 'creator': {'type': 'uri', 'value': 'http://www.wikidata.org/entity/Q705079'}, 'image': {'type': 'uri', 'value': 'http://commons.wikimedia.org/wiki/Special:FilePath/Francesco%20da%20Ponte%2C%20gen.%20Francesco%20Bassano%20-%20Jahrmarkt%20-%20GG%204319%20-%20Kunsthistorisches%20Museum.jpg'}, 'itemLabel': {'type': 'literal', 'value': 'Q27978242'}, 'creatorLabel': {'type': 'literal', 'value': 'Q705079'}}\n",
      "{'item': {'type': 'uri', 'value': 'http://www.wikidata.org/entity/Q27978244'}, 'creator': {'type': 'uri', 'value': 'http://www.wikidata.org/entity/Q705079'}, 'image': {'type': 'uri', 'value': 'http://commons.wikimedia.org/wiki/Special:FilePath/Francesco%20da%20Ponte%2C%20gen.%20Francesco%20Bassano%20-%20Winter%20%28Schweineschlachten%29%20-%20GG%204288%20-%20Kunsthistorisches%20Museum.jpg'}, 'itemLabel': {'type': 'literal', 'value': 'Q27978244'}, 'creatorLabel': {'type': 'literal', 'value': 'Q705079'}}\n",
      "{'item': {'type': 'uri', 'value': 'http://www.wikidata.org/entity/Q27978246'}, 'creator': {'type': 'uri', 'value': 'http://www.wikidata.org/entity/Q705079'}, 'image': {'type': 'uri', 'value': 'http://commons.wikimedia.org/wiki/Special:FilePath/Francesco%20da%20Ponte%2C%20gen.%20Francesco%20Bassano%20-%20Sommer%20%28Juni%2C%20Juli%2C%20August%29%20-%20GG%204289%20-%20Kunsthistorisches%20Museum.jpg'}, 'itemLabel': {'type': 'literal', 'value': 'Q27978246'}, 'creatorLabel': {'type': 'literal', 'value': 'Q705079'}}\n",
      "{'item': {'type': 'uri', 'value': 'http://www.wikidata.org/entity/Q27978247'}, 'creator': {'type': 'uri', 'value': 'http://www.wikidata.org/entity/Q705079'}, 'image': {'type': 'uri', 'value': 'http://commons.wikimedia.org/wiki/Special:FilePath/Francesco%20da%20Ponte%2C%20gen.%20Francesco%20Bassano%20-%20Herbst%20%28Weinlese%29%20-%20GG%204287%20-%20Kunsthistorisches%20Museum.jpg'}, 'itemLabel': {'type': 'literal', 'value': 'Q27978247'}, 'creatorLabel': {'type': 'literal', 'value': 'Q705079'}}\n",
      "{'item': {'type': 'uri', 'value': 'http://www.wikidata.org/entity/Q27978248'}, 'creator': {'type': 'uri', 'value': 'http://www.wikidata.org/entity/Q705079'}, 'image': {'type': 'uri', 'value': 'http://commons.wikimedia.org/wiki/Special:FilePath/Francesco%20da%20Ponte%2C%20gen.%20Francesco%20Bassano%20-%20Herkules%20und%20Omphale%20-%20GG%203575%20-%20Kunsthistorisches%20Museum.jpg'}, 'itemLabel': {'type': 'literal', 'value': 'Q27978248'}, 'creatorLabel': {'type': 'literal', 'value': 'Q705079'}}\n",
      "{'item': {'type': 'uri', 'value': 'http://www.wikidata.org/entity/Q27978249'}, 'creator': {'type': 'uri', 'value': 'http://www.wikidata.org/entity/Q705079'}, 'image': {'type': 'uri', 'value': 'http://commons.wikimedia.org/wiki/Special:FilePath/Francesco%20da%20Ponte%2C%20gen.%20Francesco%20Bassano%20-%20Anbetung%20der%20K%C3%B6nige%20-%20GG%205801%20-%20Kunsthistorisches%20Museum.jpg'}, 'itemLabel': {'type': 'literal', 'value': 'Q27978249'}, 'creatorLabel': {'type': 'literal', 'value': 'Q705079'}}\n",
      "{'item': {'type': 'uri', 'value': 'http://www.wikidata.org/entity/Q27978253'}, 'creator': {'type': 'uri', 'value': 'http://www.wikidata.org/entity/Q705079'}, 'image': {'type': 'uri', 'value': 'http://commons.wikimedia.org/wiki/Special:FilePath/Francesco%20da%20Ponte%2C%20gen.%20Francesco%20Bassano%20-%20Wunder%20aus%20der%20Quelle%20von%20Mara%20-%20GG%204300%20-%20Kunsthistorisches%20Museum.jpg'}, 'itemLabel': {'type': 'literal', 'value': 'Q27978253'}, 'creatorLabel': {'type': 'literal', 'value': 'Q705079'}}\n",
      "{'item': {'type': 'uri', 'value': 'http://www.wikidata.org/entity/Q27978258'}, 'creator': {'type': 'uri', 'value': 'http://www.wikidata.org/entity/Q286685'}, 'image': {'type': 'uri', 'value': 'http://commons.wikimedia.org/wiki/Special:FilePath/Jacopo%20da%20Ponte%2C%20gen.%20Jacopo%20Bassano%20-%20Moses%20schl%C3%A4gt%20Wasser%20aus%20dem%20Felsen%20-%20GG%204305%20-%20Kunsthistorisches%20Museum.jpg'}, 'itemLabel': {'type': 'literal', 'value': 'Q27978258'}, 'creatorLabel': {'type': 'literal', 'value': 'Q286685'}}\n",
      "{'item': {'type': 'uri', 'value': 'http://www.wikidata.org/entity/Q27978260'}, 'creator': {'type': 'uri', 'value': 'http://www.wikidata.org/entity/Q286685'}, 'image': {'type': 'uri', 'value': 'http://commons.wikimedia.org/wiki/Special:FilePath/Gerolamo%20da%20Ponte%2C%20gen.%20Gerolamo%20Bassano%20-%20Jakob%20am%20Brunnen%20-%20GG%204307%20-%20Kunsthistorisches%20Museum.jpg'}, 'itemLabel': {'type': 'literal', 'value': 'Q27978260'}, 'creatorLabel': {'type': 'literal', 'value': 'Q286685'}}\n",
      "{'item': {'type': 'uri', 'value': 'http://www.wikidata.org/entity/Q27978261'}, 'creator': {'type': 'uri', 'value': 'http://www.wikidata.org/entity/Q286685'}, 'image': {'type': 'uri', 'value': 'http://commons.wikimedia.org/wiki/Special:FilePath/Gerolamo%20da%20Ponte%2C%20gen.%20Gerolamo%20Bassano%20-%20Aufbruch%20Abrahams%20ins%20gelobte%20Land%20-%20GG%204301%20-%20Kunsthistorisches%20Museum.jpg'}, 'itemLabel': {'type': 'literal', 'value': 'Q27978261'}, 'creatorLabel': {'type': 'literal', 'value': 'Q286685'}}\n",
      "{'item': {'type': 'uri', 'value': 'http://www.wikidata.org/entity/Q27978262'}, 'creator': {'type': 'uri', 'value': 'http://www.wikidata.org/entity/Q286685'}, 'image': {'type': 'uri', 'value': 'http://commons.wikimedia.org/wiki/Special:FilePath/Gerolamo%20da%20Ponte%2C%20gen.%20Gerolamo%20Bassano%20-%20Grablegung%20Christi%20-%20GG%204312%20-%20Kunsthistorisches%20Museum.jpg'}, 'itemLabel': {'type': 'literal', 'value': 'Q27978262'}, 'creatorLabel': {'type': 'literal', 'value': 'Q286685'}}\n"
     ]
    }
   ],
   "source": [
    "from SPARQLWrapper import SPARQLWrapper, JSON\n",
    "from PIL import Image\n",
    "import requests\n",
    "\n",
    "# VARIABLES\n",
    "\n",
    "sparql_endpoint_url = 'https://query.wikidata.org/bigdata/namespace/wdq/sparql'\n",
    "wikibase_url = 'https://www.wikidata.org'\n",
    "api_url = '/w/api.php'\n",
    "\n",
    "# Wikidata requires a user agent header to prevent spam requests\n",
    "user_agent = 'Ex_Books_conference_bot/0.0 (https://github.com/SimonXIX/Experimental_Books_workshop; ad7588@coventry.ac.uk)'\n",
    "\n",
    "# pip install sparqlwrapper\n",
    "# https://rdflib.github.io/sparqlwrapper/\n",
    "\n",
    "import sys\n",
    "from SPARQLWrapper import SPARQLWrapper, JSON\n",
    "\n",
    "endpoint_url = \"https://query.wikidata.org/sparql\"\n",
    "\n",
    "query = \"\"\"SELECT ?item ?itemLabel ?inceptionyear ?creator ?creatorLabel ?image\n",
    "WHERE\n",
    "{\n",
    "  ?item wdt:P31 wd:Q3305213 ;\n",
    "        wdt:P195 wd:Q95569 ;\n",
    "        wdt:P170 ?creator ;\n",
    "        wdt:P18 ?image .\n",
    "\n",
    "  OPTIONAL { ?item wdt:P571 ?inception. }\n",
    "  FILTER(YEAR(?inception) >= 1500 && YEAR(?inception) < 1700)\n",
    "\n",
    "  SERVICE wikibase:label { bd:serviceParam wikibase:language \"[AUTO_LANGUAGE]\". }\n",
    "}\n",
    "LIMIT 15\n",
    "\"\"\"\n",
    "\n",
    "\n",
    "def get_results(endpoint_url, query):\n",
    "    user_agent = \"WDQS-example Python/%s.%s\" % (sys.version_info[0], sys.version_info[1])\n",
    "    # TODO adjust user agent; see https://w.wiki/CX6\n",
    "    sparql = SPARQLWrapper(endpoint_url, agent=user_agent)\n",
    "    sparql.setQuery(query)\n",
    "    sparql.setReturnFormat(JSON)\n",
    "    return sparql.query().convert()\n",
    "\n",
    "\n",
    "results = get_results(endpoint_url, query)\n",
    "\n",
    "for result in results[\"results\"][\"bindings\"]:\n",
    "    print(result)\n"
   ]
  }
 ],
 "metadata": {
  "kernelspec": {
   "display_name": "Python 3",
   "language": "python",
   "name": "python3"
  },
  "language_info": {
   "codemirror_mode": {
    "name": "ipython",
    "version": 3
   },
   "file_extension": ".py",
   "mimetype": "text/x-python",
   "name": "python",
   "nbconvert_exporter": "python",
   "pygments_lexer": "ipython3",
   "version": "3.11.3"
  },
  "orig_nbformat": 4
 },
 "nbformat": 4,
 "nbformat_minor": 2
}
