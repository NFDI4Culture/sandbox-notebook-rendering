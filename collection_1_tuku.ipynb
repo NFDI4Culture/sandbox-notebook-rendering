{
 "cells": [
  {
   "cell_type": "raw",
   "metadata": {},
   "source": [
    "---\n",
    "title: \"Sample Collection Tuku\"\n",
    "jupyter: python3\n",
    "execute:\n",
    "  echo: false\n",
    "  output: asis\n",
    "---"
   ]
  },
  {
   "attachments": {},
   "cell_type": "markdown",
   "metadata": {},
   "source": [
    "From: https://w.wiki/6cs5"
   ]
  },
  {
   "cell_type": "code",
   "execution_count": 1,
   "metadata": {},
   "outputs": [
    {
     "name": "stdout",
     "output_type": "stream",
     "text": [
      "{'artist': {'type': 'uri', 'value': 'http://www.wikidata.org/entity/Q40823'}, 'painting': {'type': 'uri', 'value': 'http://www.wikidata.org/entity/Q28803748'}, 'image': {'type': 'uri', 'value': 'http://commons.wikimedia.org/wiki/Special:FilePath/Grechetto%20%28Giovanni%20Benedetto%20Castiglione%29%20-%20Crucifixion%20-%20Google%20Art%20Project.jpg'}, 'paintingLabel': {'type': 'literal', 'value': 'Q28803748'}, 'artistLabel': {'xml:lang': 'de', 'type': 'literal', 'value': 'Giovanni Benedetto Castiglione'}, 'originLabel': {'xml:lang': 'de', 'type': 'literal', 'value': 'Musei di Strada Nuova'}}\n",
      "{'artist': {'type': 'uri', 'value': 'http://www.wikidata.org/entity/Q40823'}, 'painting': {'type': 'uri', 'value': 'http://www.wikidata.org/entity/Q28803749'}, 'image': {'type': 'uri', 'value': 'http://commons.wikimedia.org/wiki/Special:FilePath/Grechetto%20%28Giovanni%20Benedetto%20Castiglione%29%20-%20Journey%20of%20the%20Family%20of%20Abraham%20-%20Google%20Art%20Project.jpg'}, 'paintingLabel': {'type': 'literal', 'value': 'Q28803749'}, 'artistLabel': {'xml:lang': 'de', 'type': 'literal', 'value': 'Giovanni Benedetto Castiglione'}, 'originLabel': {'xml:lang': 'de', 'type': 'literal', 'value': 'Musei di Strada Nuova'}}\n",
      "{'artist': {'type': 'uri', 'value': 'http://www.wikidata.org/entity/Q40823'}, 'painting': {'type': 'uri', 'value': 'http://www.wikidata.org/entity/Q55083952'}, 'image': {'type': 'uri', 'value': 'http://commons.wikimedia.org/wiki/Special:FilePath/Ritratto%20di%20Gian%20Lorenzo%20Bernini%20-%20Grechetto.jpg'}, 'paintingLabel': {'xml:lang': 'de', 'type': 'literal', 'value': 'Porträt von Gianlorenzo Bernini'}, 'artistLabel': {'xml:lang': 'de', 'type': 'literal', 'value': 'Giovanni Benedetto Castiglione'}, 'originLabel': {'xml:lang': 'de', 'type': 'literal', 'value': 'Musei di Strada Nuova'}}\n",
      "{'artist': {'type': 'uri', 'value': 'http://www.wikidata.org/entity/Q155376'}, 'painting': {'type': 'uri', 'value': 'http://www.wikidata.org/entity/Q729197'}, 'image': {'type': 'uri', 'value': 'http://commons.wikimedia.org/wiki/Special:FilePath/Cappella%20bartolini%20salimbeni%2C%20annunciazione%20di%20lorenzo%20monaco%2001.JPG'}, 'paintingLabel': {'type': 'literal', 'value': 'Q729197'}, 'artistLabel': {'xml:lang': 'de', 'type': 'literal', 'value': 'Lorenzo Monaco'}, 'originLabel': {'xml:lang': 'de', 'type': 'literal', 'value': 'Santa Trinita'}}\n",
      "{'artist': {'type': 'uri', 'value': 'http://www.wikidata.org/entity/Q9348'}, 'painting': {'type': 'uri', 'value': 'http://www.wikidata.org/entity/Q866489'}, 'image': {'type': 'uri', 'value': 'http://commons.wikimedia.org/wiki/Special:FilePath/Parmigianino%20Selfportrait%201540.jpg'}, 'paintingLabel': {'type': 'literal', 'value': 'Q866489'}, 'artistLabel': {'xml:lang': 'de', 'type': 'literal', 'value': 'Parmigianino'}, 'originLabel': {'xml:lang': 'de', 'type': 'literal', 'value': 'Galleria nazionale di Parma'}}\n",
      "{'artist': {'type': 'uri', 'value': 'http://www.wikidata.org/entity/Q9348'}, 'painting': {'type': 'uri', 'value': 'http://www.wikidata.org/entity/Q866500'}, 'image': {'type': 'uri', 'value': 'http://commons.wikimedia.org/wiki/Special:FilePath/Parmigianino%20-%20La%20schiava%20turca.jpg'}, 'paintingLabel': {'type': 'literal', 'value': 'Q866500'}, 'artistLabel': {'xml:lang': 'de', 'type': 'literal', 'value': 'Parmigianino'}, 'originLabel': {'xml:lang': 'de', 'type': 'literal', 'value': 'Galleria nazionale di Parma'}}\n",
      "{'artist': {'type': 'uri', 'value': 'http://www.wikidata.org/entity/Q9348'}, 'painting': {'type': 'uri', 'value': 'http://www.wikidata.org/entity/Q867403'}, 'image': {'type': 'uri', 'value': 'http://commons.wikimedia.org/wiki/Special:FilePath/Parmigianino%20-%20Madonna%20dal%20collo%20lungo%20-%20Google%20Art%20Project.jpg'}, 'paintingLabel': {'xml:lang': 'de', 'type': 'literal', 'value': 'Madonna mit dem langen Hals'}, 'artistLabel': {'xml:lang': 'de', 'type': 'literal', 'value': 'Parmigianino'}, 'originLabel': {'xml:lang': 'de', 'type': 'literal', 'value': 'Uffizien'}}\n",
      "{'artist': {'type': 'uri', 'value': 'http://www.wikidata.org/entity/Q9348'}, 'painting': {'type': 'uri', 'value': 'http://www.wikidata.org/entity/Q867403'}, 'image': {'type': 'uri', 'value': 'http://commons.wikimedia.org/wiki/Special:FilePath/Parmigianino%20-%20Madonna%20dal%20collo%20lungo%20-%20Google%20Art%20Project.jpg'}, 'paintingLabel': {'xml:lang': 'de', 'type': 'literal', 'value': 'Madonna mit dem langen Hals'}, 'artistLabel': {'xml:lang': 'de', 'type': 'literal', 'value': 'Parmigianino'}, 'originLabel': {'xml:lang': 'de', 'type': 'literal', 'value': 'Kirche Santa Maria dei Servi'}}\n",
      "{'artist': {'type': 'uri', 'value': 'http://www.wikidata.org/entity/Q9348'}, 'painting': {'type': 'uri', 'value': 'http://www.wikidata.org/entity/Q867678'}, 'image': {'type': 'uri', 'value': 'http://commons.wikimedia.org/wiki/Special:FilePath/Parmigianino%20007.jpg'}, 'paintingLabel': {'xml:lang': 'de', 'type': 'literal', 'value': 'Antea'}, 'artistLabel': {'xml:lang': 'de', 'type': 'literal', 'value': 'Parmigianino'}, 'originLabel': {'xml:lang': 'de', 'type': 'literal', 'value': 'Museo Nazionale di Capodimonte'}}\n"
     ]
    }
   ],
   "source": [
    "# pip install sparqlwrapper\n",
    "# https://rdflib.github.io/sparqlwrapper/\n",
    "\n",
    "import sys\n",
    "from SPARQLWrapper import SPARQLWrapper, JSON\n",
    "\n",
    "from PIL import Image\n",
    "import requests\n",
    "\n",
    "endpoint_url = \"https://query.wikidata.org/sparql\"\n",
    "\n",
    "query = \"\"\"SELECT ?painting ?paintingLabel ?artist ?artistLabel ?originLabel ?image WHERE {\n",
    "  ?painting wdt:P31 wd:Q3305213;\n",
    "    wdt:P170 ?artist;\n",
    "    wdt:P276 ?origin.\n",
    "  ?artist wdt:P27 wd:Q38.\n",
    "  ?origin wdt:P17 wd:Q38.\n",
    "  SERVICE wikibase:label { bd:serviceParam wikibase:language \"de\". }\n",
    "  OPTIONAL { ?painting wdt:P18 ?image. }\n",
    "}\n",
    "LIMIT 9\"\"\"\n",
    "\n",
    "\n",
    "def get_results(endpoint_url, query):\n",
    "    user_agent = \"WDQS-example Python/%s.%s\" % (sys.version_info[0], sys.version_info[1])\n",
    "    # TODO adjust user agent; see https://w.wiki/CX6\n",
    "    sparql = SPARQLWrapper(endpoint_url, agent=user_agent)\n",
    "    sparql.setQuery(query)\n",
    "    sparql.setReturnFormat(JSON)\n",
    "    return sparql.query().convert()\n",
    "\n",
    "\n",
    "results = get_results(endpoint_url, query)\n",
    "\n",
    "for result in results[\"results\"][\"bindings\"]:\n",
    "    print(result)\n"
   ]
  }
 ],
 "metadata": {
  "kernelspec": {
   "display_name": "Python 3",
   "language": "python",
   "name": "python3"
  },
  "language_info": {
   "codemirror_mode": {
    "name": "ipython",
    "version": 3
   },
   "file_extension": ".py",
   "mimetype": "text/x-python",
   "name": "python",
   "nbconvert_exporter": "python",
   "pygments_lexer": "ipython3",
   "version": "3.9.5"
  },
  "orig_nbformat": 4
 },
 "nbformat": 4,
 "nbformat_minor": 2
}
