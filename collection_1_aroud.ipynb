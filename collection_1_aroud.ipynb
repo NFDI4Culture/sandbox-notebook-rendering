{
 "cells": [
  {
   "cell_type": "raw",
   "metadata": {},
   "source": [
    "---\n",
    "title: \"Sample Collection Aroud\"\n",
    "jupyter: python3\n",
    "execute:\n",
    "  echo: false\n",
    "  output: asis\n",
    "---"
   ]
  },
  {
   "attachments": {},
   "cell_type": "markdown",
   "metadata": {},
   "source": [
    "From:  https://w.wiki/6aLJ updated https://w.wiki/6crp"
   ]
  },
  {
   "cell_type": "code",
   "execution_count": 1,
   "metadata": {},
   "outputs": [
    {
     "name": "stdout",
     "output_type": "stream",
     "text": [
      "{'item': {'type': 'uri', 'value': 'http://www.wikidata.org/entity/Q21623'}, 'image': {'type': 'uri', 'value': 'http://commons.wikimedia.org/wiki/Special:FilePath/Alicia%20ostriker%203206.JPG'}, 'itemLabel': {'xml:lang': 'en', 'type': 'literal', 'value': 'Alicia Ostriker'}}\n",
      "{'item': {'type': 'uri', 'value': 'http://www.wikidata.org/entity/Q22677'}, 'image': {'type': 'uri', 'value': 'http://commons.wikimedia.org/wiki/Special:FilePath/Michael%20Hart%20at%20HOPE%20Conference%20%28cropped%29.jpg'}, 'itemLabel': {'xml:lang': 'en', 'type': 'literal', 'value': 'Michael S. Hart'}}\n",
      "{'item': {'type': 'uri', 'value': 'http://www.wikidata.org/entity/Q23437'}, 'itemLabel': {'xml:lang': 'en', 'type': 'literal', 'value': 'William Hirstein'}}\n",
      "{'item': {'type': 'uri', 'value': 'http://www.wikidata.org/entity/Q23446'}, 'itemLabel': {'xml:lang': 'en', 'type': 'literal', 'value': 'Quentin Smith'}}\n",
      "{'item': {'type': 'uri', 'value': 'http://www.wikidata.org/entity/Q23728'}, 'image': {'type': 'uri', 'value': 'http://commons.wikimedia.org/wiki/Special:FilePath/Larry%20David%20at%20the%202009%20Tribeca%20Film%20Festival%202.jpg'}, 'itemLabel': {'xml:lang': 'en', 'type': 'literal', 'value': 'Larry David'}}\n",
      "{'item': {'type': 'uri', 'value': 'http://www.wikidata.org/entity/Q23858'}, 'image': {'type': 'uri', 'value': 'http://commons.wikimedia.org/wiki/Special:FilePath/John%20Belushi%20at%20the%2032nd%20Annual%20Radio%20and%20Television%20Correspondents%20Association%20Dinner%20-%20NARA%20-%2030805929.jpg'}, 'itemLabel': {'xml:lang': 'en', 'type': 'literal', 'value': 'John Belushi'}}\n",
      "{'item': {'type': 'uri', 'value': 'http://www.wikidata.org/entity/Q23952'}, 'image': {'type': 'uri', 'value': 'http://commons.wikimedia.org/wiki/Special:FilePath/Lois%20Long%20in%20her%20office%20at%20the%20New%20Yorker%20croped.jpg'}, 'itemLabel': {'xml:lang': 'en', 'type': 'literal', 'value': 'Lois Bancroft Long'}}\n",
      "{'item': {'type': 'uri', 'value': 'http://www.wikidata.org/entity/Q24155'}, 'image': {'type': 'uri', 'value': 'http://commons.wikimedia.org/wiki/Special:FilePath/Pamela%20Des%20Barres%2C%20July%202007.jpg'}, 'itemLabel': {'xml:lang': 'en', 'type': 'literal', 'value': 'Pamela Des Barres'}}\n",
      "{'item': {'type': 'uri', 'value': 'http://www.wikidata.org/entity/Q24184'}, 'image': {'type': 'uri', 'value': 'http://commons.wikimedia.org/wiki/Special:FilePath/Don%20Rosa%20MegaCon%202012%20Orlando%20FL.jpg'}, 'itemLabel': {'xml:lang': 'en', 'type': 'literal', 'value': 'Don Rosa'}}\n"
     ]
    }
   ],
   "source": [
    "# pip install sparqlwrapper\n",
    "# https://rdflib.github.io/sparqlwrapper/\n",
    "\n",
    "import sys\n",
    "from SPARQLWrapper import SPARQLWrapper, JSON\n",
    "\n",
    "from PIL import Image\n",
    "import requests\n",
    "\n",
    "endpoint_url = \"https://query.wikidata.org/sparql\"\n",
    "\n",
    "query = \"\"\"#authors with country of citizenship United States who do not have a Goodreads identifier\n",
    "SELECT ?item ?itemLabel ?image WHERE {\n",
    "  ?item wdt:P31 wd:Q5;\n",
    "    wdt:P27 wd:Q30;\n",
    "    wdt:P106 wd:Q36180.\n",
    "  MINUS { ?item wdt:P2963 _:b1. }\n",
    "  SERVICE wikibase:label { bd:serviceParam wikibase:language \"[AUTO_LANGUAGE],en\". }\n",
    "  OPTIONAL { ?item wdt:P18 ?image. }\n",
    "}\n",
    "LIMIT 9\"\"\"\n",
    "\n",
    "\n",
    "def get_results(endpoint_url, query):\n",
    "    user_agent = \"WDQS-example Python/%s.%s\" % (sys.version_info[0], sys.version_info[1])\n",
    "    # TODO adjust user agent; see https://w.wiki/CX6\n",
    "    sparql = SPARQLWrapper(endpoint_url, agent=user_agent)\n",
    "    sparql.setQuery(query)\n",
    "    sparql.setReturnFormat(JSON)\n",
    "    return sparql.query().convert()\n",
    "\n",
    "\n",
    "results = get_results(endpoint_url, query)\n",
    "\n",
    "for result in results[\"results\"][\"bindings\"]:\n",
    "    print(result)\n"
   ]
  }
 ],
 "metadata": {
  "kernelspec": {
   "display_name": "Python 3",
   "language": "python",
   "name": "python3"
  },
  "language_info": {
   "codemirror_mode": {
    "name": "ipython",
    "version": 3
   },
   "file_extension": ".py",
   "mimetype": "text/x-python",
   "name": "python",
   "nbconvert_exporter": "python",
   "pygments_lexer": "ipython3",
   "version": "3.11.3"
  },
  "orig_nbformat": 4
 },
 "nbformat": 4,
 "nbformat_minor": 2
}
