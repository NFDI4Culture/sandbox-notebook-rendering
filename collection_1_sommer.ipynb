{
 "cells": [
  {
   "cell_type": "raw",
   "metadata": {},
   "source": [
    "---\n",
    "title: \"Sample Collection Sommer\"\n",
    "jupyter: python3\n",
    "execute:\n",
    "  echo: false\n",
    "  output: asis\n",
    "---"
   ]
  },
  {
   "attachments": {},
   "cell_type": "markdown",
   "metadata": {},
   "source": [
    "From: https://w.wiki/6aKR"
   ]
  },
  {
   "cell_type": "code",
   "execution_count": 1,
   "metadata": {},
   "outputs": [
    {
     "name": "stdout",
     "output_type": "stream",
     "text": [
      "{'title': {'xml:lang': 'de', 'type': 'literal', 'value': 'Waldnymphe. Miniatur aus der Sammlung Loewe'}, 'inception': {'datatype': 'http://www.w3.org/2001/XMLSchema#dateTime', 'type': 'literal', 'value': '1878-01-01T00:00:00Z'}, 'creatorLabel': {'xml:lang': 'en', 'type': 'literal', 'value': 'Ludwig von Hofmann-Zeitz'}, 'copyright_statusLabel': {'xml:lang': 'en', 'type': 'literal', 'value': 'public domain'}, 'inventory_number': {'type': 'literal', 'value': 'A III 733/52'}}\n",
      "{'title': {'xml:lang': 'de', 'type': 'literal', 'value': 'Teneriffa'}, 'creatorLabel': {'xml:lang': 'en', 'type': 'literal', 'value': 'Fritz Hildebrandt'}, 'copyright_statusLabel': {'xml:lang': 'en', 'type': 'literal', 'value': 'public domain'}, 'inventory_number': {'type': 'literal', 'value': 'A I 459'}, 'made_from_materialLabel': {'xml:lang': 'en', 'type': 'literal', 'value': 'oil paint'}}\n",
      "{'title': {'xml:lang': 'de', 'type': 'literal', 'value': 'Teneriffa'}, 'creatorLabel': {'xml:lang': 'en', 'type': 'literal', 'value': 'Fritz Hildebrandt'}, 'copyright_statusLabel': {'xml:lang': 'en', 'type': 'literal', 'value': 'public domain'}, 'inventory_number': {'type': 'literal', 'value': 'A I 459'}, 'made_from_materialLabel': {'xml:lang': 'en', 'type': 'literal', 'value': 'canvas'}}\n",
      "{'title': {'xml:lang': 'de', 'type': 'literal', 'value': 'Porträt der Freifrau Adelheid von Berlichingen'}, 'inception': {'datatype': 'http://www.w3.org/2001/XMLSchema#dateTime', 'type': 'literal', 'value': '1870-01-01T00:00:00Z'}, 'creatorLabel': {'xml:lang': 'en', 'type': 'literal', 'value': 'Eduard Von Steinle'}, 'copyright_statusLabel': {'xml:lang': 'en', 'type': 'literal', 'value': 'public domain'}, 'inventory_number': {'type': 'literal', 'value': 'A II 385'}, 'made_from_materialLabel': {'xml:lang': 'en', 'type': 'literal', 'value': 'oil paint'}}\n",
      "{'title': {'xml:lang': 'de', 'type': 'literal', 'value': 'Porträt der Freifrau Adelheid von Berlichingen'}, 'inception': {'datatype': 'http://www.w3.org/2001/XMLSchema#dateTime', 'type': 'literal', 'value': '1870-01-01T00:00:00Z'}, 'creatorLabel': {'xml:lang': 'en', 'type': 'literal', 'value': 'Eduard Von Steinle'}, 'copyright_statusLabel': {'xml:lang': 'en', 'type': 'literal', 'value': 'public domain'}, 'inventory_number': {'type': 'literal', 'value': 'A II 385'}, 'made_from_materialLabel': {'xml:lang': 'en', 'type': 'literal', 'value': 'canvas'}}\n",
      "{'title': {'xml:lang': 'de', 'type': 'literal', 'value': 'Mädchenkopf. Miniatur aus der Sammlung Loewe'}, 'inception': {'datatype': 'http://www.w3.org/2001/XMLSchema#dateTime', 'type': 'literal', 'value': '1878-01-01T00:00:00Z'}, 'creatorLabel': {'xml:lang': 'en', 'type': 'literal', 'value': 'Ludwig Knaus'}, 'copyright_statusLabel': {'xml:lang': 'en', 'type': 'literal', 'value': 'public domain'}, 'inventory_number': {'type': 'literal', 'value': 'A III 733/67'}}\n",
      "{'title': {'xml:lang': 'de', 'type': 'literal', 'value': 'Bildnis einer Dame aus dem Hause Bismarck'}, 'inception': {'datatype': 'http://www.w3.org/2001/XMLSchema#dateTime', 'type': 'literal', 'value': '1840-01-01T00:00:00Z'}, 'creatorLabel': {'type': 'literal', 'value': 'http://www.wikidata.org/.well-known/genid/6dd6fbf7f09990537522fbaa79e4a2b9'}, 'inventory_number': {'type': 'literal', 'value': 'A III 458'}, 'made_from_materialLabel': {'xml:lang': 'en', 'type': 'literal', 'value': 'oil paint'}}\n",
      "{'title': {'xml:lang': 'de', 'type': 'literal', 'value': 'Bildnis einer Dame aus dem Hause Bismarck'}, 'inception': {'datatype': 'http://www.w3.org/2001/XMLSchema#dateTime', 'type': 'literal', 'value': '1840-01-01T00:00:00Z'}, 'creatorLabel': {'type': 'literal', 'value': 'http://www.wikidata.org/.well-known/genid/6dd6fbf7f09990537522fbaa79e4a2b9'}, 'inventory_number': {'type': 'literal', 'value': 'A III 458'}, 'made_from_materialLabel': {'xml:lang': 'en', 'type': 'literal', 'value': 'canvas'}}\n",
      "{'title': {'xml:lang': 'de', 'type': 'literal', 'value': 'Im Schnee'}, 'inception': {'datatype': 'http://www.w3.org/2001/XMLSchema#dateTime', 'type': 'literal', 'value': '1884-01-01T00:00:00Z'}, 'creatorLabel': {'xml:lang': 'en', 'type': 'literal', 'value': 'Carl Gustaf Hellqvist'}, 'copyright_statusLabel': {'xml:lang': 'en', 'type': 'literal', 'value': 'public domain'}, 'inventory_number': {'type': 'literal', 'value': 'A I 469'}, 'made_from_materialLabel': {'xml:lang': 'en', 'type': 'literal', 'value': 'oil paint'}}\n"
     ]
    }
   ],
   "source": [
    "# pip install sparqlwrapper\n",
    "# https://rdflib.github.io/sparqlwrapper/\n",
    "\n",
    "import sys\n",
    "from SPARQLWrapper import SPARQLWrapper, JSON\n",
    "\n",
    "from PIL import Image\n",
    "import requests\n",
    "\n",
    "endpoint_url = \"https://query.wikidata.org/sparql\"\n",
    "\n",
    "query = \"\"\"SELECT ?title ?creatorLabel ?inception ?inventory_number  ?made_from_materialLabel ?image ?copyright_statusLabel  WHERE {\n",
    "  SERVICE wikibase:label { bd:serviceParam wikibase:language \"[AUTO_LANGUAGE],en\". }\n",
    "  ?instance_of wdt:P31 wd:Q3305213;\n",
    "    wdt:P195 wd:Q162111.\n",
    "  OPTIONAL { ?instance_of wdt:P18 ?image. }\n",
    "  OPTIONAL { ?instance_of wdt:P1476 ?title. }\n",
    "  OPTIONAL { ?instance_of wdt:P170 ?creator. }\n",
    "  OPTIONAL { ?instance_of wdt:P571 ?inception. }\n",
    "  OPTIONAL { ?instance_of wdt:P186 ?made_from_material. }\n",
    "  OPTIONAL { ?instance_of wdt:P6216 ?copyright_status. }\n",
    "  OPTIONAL { ?instance_of wdt:P217 ?inventory_number. }\n",
    "}\n",
    "LIMIT 9\"\"\"\n",
    "\n",
    "\n",
    "def get_results(endpoint_url, query):\n",
    "    user_agent = \"WDQS-example Python/%s.%s\" % (sys.version_info[0], sys.version_info[1])\n",
    "    # TODO adjust user agent; see https://w.wiki/CX6\n",
    "    sparql = SPARQLWrapper(endpoint_url, agent=user_agent)\n",
    "    sparql.setQuery(query)\n",
    "    sparql.setReturnFormat(JSON)\n",
    "    return sparql.query().convert()\n",
    "\n",
    "\n",
    "results = get_results(endpoint_url, query)\n",
    "\n",
    "for result in results[\"results\"][\"bindings\"]:\n",
    "    print(result)\n"
   ]
  }
 ],
 "metadata": {
  "kernelspec": {
   "display_name": "Python 3",
   "language": "python",
   "name": "python3"
  },
  "language_info": {
   "codemirror_mode": {
    "name": "ipython",
    "version": 3
   },
   "file_extension": ".py",
   "mimetype": "text/x-python",
   "name": "python",
   "nbconvert_exporter": "python",
   "pygments_lexer": "ipython3",
   "version": "3.9.5"
  },
  "orig_nbformat": 4
 },
 "nbformat": 4,
 "nbformat_minor": 2
}
