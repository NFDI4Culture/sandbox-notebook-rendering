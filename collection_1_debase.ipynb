{
 "cells": [
  {
   "cell_type": "raw",
   "metadata": {},
   "source": [
    "---\n",
    "title: \"Sample Collection Debase\"\n",
    "jupyter: python3\n",
    "execute:\n",
    "  echo: false\n",
    "  output: asis\n",
    "---"
   ]
  },
  {
   "attachments": {},
   "cell_type": "markdown",
   "metadata": {},
   "source": [
    "From: https://w.wiki/6ZpM updated https://w.wiki/6crz"
   ]
  },
  {
   "cell_type": "code",
   "execution_count": 1,
   "metadata": {},
   "outputs": [
    {
     "name": "stdout",
     "output_type": "stream",
     "text": [
      "{'item': {'type': 'uri', 'value': 'http://www.wikidata.org/entity/Q263491'}, 'image': {'type': 'uri', 'value': 'http://commons.wikimedia.org/wiki/Special:FilePath/Stuttgart-haus-der-geschichte-bw.jpg'}, 'itemLabel': {'xml:lang': 'en', 'type': 'literal', 'value': 'Haus der Geschichte Baden-Württemberg'}}\n",
      "{'item': {'type': 'uri', 'value': 'http://www.wikidata.org/entity/Q264209'}, 'image': {'type': 'uri', 'value': 'http://commons.wikimedia.org/wiki/Special:FilePath/2021%20Juli-StammtischTour%20Valentin-Mus%C3%A4um%2002.jpg'}, 'itemLabel': {'xml:lang': 'en', 'type': 'literal', 'value': 'Valentin-Volkssänger-Musäum'}}\n",
      "{'item': {'type': 'uri', 'value': 'http://www.wikidata.org/entity/Q264941'}, 'image': {'type': 'uri', 'value': 'http://commons.wikimedia.org/wiki/Special:FilePath/Holzknechtmuseum%20Laubau%20-%20Transportschlitten%20-%20geo-en.hlipp.de%20-%2013307.jpg'}, 'itemLabel': {'xml:lang': 'en', 'type': 'literal', 'value': 'Holzknechtmuseum Ruhpolding'}}\n",
      "{'item': {'type': 'uri', 'value': 'http://www.wikidata.org/entity/Q266565'}, 'image': {'type': 'uri', 'value': 'http://commons.wikimedia.org/wiki/Special:FilePath/Wasmeier%20Bauernhofmuseum%201.jpg'}, 'itemLabel': {'xml:lang': 'en', 'type': 'literal', 'value': 'Markus Wasmeier Bauernhof- und Wintersportmuseum'}}\n",
      "{'item': {'type': 'uri', 'value': 'http://www.wikidata.org/entity/Q268609'}, 'image': {'type': 'uri', 'value': 'http://commons.wikimedia.org/wiki/Special:FilePath/UlmStadthaus.JPG'}, 'itemLabel': {'xml:lang': 'en', 'type': 'literal', 'value': 'Stadthaus Ulm'}}\n",
      "{'item': {'type': 'uri', 'value': 'http://www.wikidata.org/entity/Q276846'}, 'image': {'type': 'uri', 'value': 'http://commons.wikimedia.org/wiki/Special:FilePath/FranckescheStiftungen%203.jpg'}, 'itemLabel': {'xml:lang': 'en', 'type': 'literal', 'value': 'Francke Foundations'}}\n",
      "{'item': {'type': 'uri', 'value': 'http://www.wikidata.org/entity/Q278908'}, 'image': {'type': 'uri', 'value': 'http://commons.wikimedia.org/wiki/Special:FilePath/Markgr%C3%A4fliches%20Opernhaus%20Front%202019-07-29.jpg'}, 'itemLabel': {'xml:lang': 'en', 'type': 'literal', 'value': 'Margravial Opera House'}}\n",
      "{'item': {'type': 'uri', 'value': 'http://www.wikidata.org/entity/Q286549'}, 'image': {'type': 'uri', 'value': 'http://commons.wikimedia.org/wiki/Special:FilePath/GraphyArchy%20-%20Wikipedia%2000039.jpg'}, 'itemLabel': {'xml:lang': 'en', 'type': 'literal', 'value': 'The New Collection'}}\n",
      "{'item': {'type': 'uri', 'value': 'http://www.wikidata.org/entity/Q314082'}, 'image': {'type': 'uri', 'value': 'http://commons.wikimedia.org/wiki/Special:FilePath/Nieders%C3%A4chsisches%20Landesmuseum%20%288535266820%29.jpg'}, 'itemLabel': {'xml:lang': 'en', 'type': 'literal', 'value': 'Landesmuseum Hannover'}}\n"
     ]
    }
   ],
   "source": [
    "# pip install sparqlwrapper\n",
    "# https://rdflib.github.io/sparqlwrapper/\n",
    "\n",
    "import sys\n",
    "from SPARQLWrapper import SPARQLWrapper, JSON\n",
    "\n",
    "from PIL import Image\n",
    "import requests\n",
    "\n",
    "endpoint_url = \"https://query.wikidata.org/sparql\"\n",
    "\n",
    "query = \"\"\"SELECT ?item ?itemLabel ?image WHERE {\n",
    "  ?item wdt:P31 wd:Q33506;\n",
    "    wdt:P17 wd:Q183.\n",
    "  SERVICE wikibase:label { bd:serviceParam wikibase:language \"[AUTO_LANGUAGE],en\". }\n",
    "  OPTIONAL { ?item wdt:P18 ?image. }\n",
    "}\n",
    "LIMIT 9\"\"\"\n",
    "\n",
    "\n",
    "def get_results(endpoint_url, query):\n",
    "    user_agent = \"WDQS-example Python/%s.%s\" % (sys.version_info[0], sys.version_info[1])\n",
    "    # TODO adjust user agent; see https://w.wiki/CX6\n",
    "    sparql = SPARQLWrapper(endpoint_url, agent=user_agent)\n",
    "    sparql.setQuery(query)\n",
    "    sparql.setReturnFormat(JSON)\n",
    "    return sparql.query().convert()\n",
    "\n",
    "\n",
    "results = get_results(endpoint_url, query)\n",
    "\n",
    "for result in results[\"results\"][\"bindings\"]:\n",
    "    print(result)\n"
   ]
  }
 ],
 "metadata": {
  "kernelspec": {
   "display_name": "Python 3",
   "language": "python",
   "name": "python3"
  },
  "language_info": {
   "codemirror_mode": {
    "name": "ipython",
    "version": 3
   },
   "file_extension": ".py",
   "mimetype": "text/x-python",
   "name": "python",
   "nbconvert_exporter": "python",
   "pygments_lexer": "ipython3",
   "version": "3.9.5"
  },
  "orig_nbformat": 4
 },
 "nbformat": 4,
 "nbformat_minor": 2
}
