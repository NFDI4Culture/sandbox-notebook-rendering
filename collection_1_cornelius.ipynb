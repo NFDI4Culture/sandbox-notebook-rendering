{
 "cells": [
  {
   "cell_type": "raw",
   "metadata": {},
   "source": [
    "---\n",
    "title: \"Sample Collection Cornelius\"\n",
    "jupyter: python3\n",
    "execute:\n",
    "  echo: false\n",
    "  output: asis\n",
    "---"
   ]
  },
  {
   "attachments": {},
   "cell_type": "markdown",
   "metadata": {},
   "source": [
    "From: https://w.wiki/6aJ3 updated https://w.wiki/6crp "
   ]
  },
  {
   "cell_type": "code",
   "execution_count": 1,
   "metadata": {},
   "outputs": [
    {
     "name": "stdout",
     "output_type": "stream",
     "text": [
      "{'item': {'type': 'uri', 'value': 'http://www.wikidata.org/entity/Q14099'}, 'image': {'type': 'uri', 'value': 'http://commons.wikimedia.org/wiki/Special:FilePath/Evi%20nemeth.jpg'}, 'itemLabel': {'xml:lang': 'en', 'type': 'literal', 'value': 'Evi Nemeth'}}\n",
      "{'item': {'type': 'uri', 'value': 'http://www.wikidata.org/entity/Q14105'}, 'image': {'type': 'uri', 'value': 'http://commons.wikimedia.org/wiki/Special:FilePath/Meredith%20L%20Patterson%2027C3.jpg'}, 'itemLabel': {'xml:lang': 'en', 'type': 'literal', 'value': 'Meredith L. Patterson'}}\n",
      "{'item': {'type': 'uri', 'value': 'http://www.wikidata.org/entity/Q14536'}, 'image': {'type': 'uri', 'value': 'http://commons.wikimedia.org/wiki/Special:FilePath/Seth%20Meyers%20by%20Gage%20Skidmore.jpg'}, 'itemLabel': {'xml:lang': 'en', 'type': 'literal', 'value': 'Seth Meyers'}}\n",
      "{'item': {'type': 'uri', 'value': 'http://www.wikidata.org/entity/Q15153'}, 'itemLabel': {'xml:lang': 'en', 'type': 'literal', 'value': 'Carl W. Ackerman'}}\n",
      "{'item': {'type': 'uri', 'value': 'http://www.wikidata.org/entity/Q17525'}, 'itemLabel': {'xml:lang': 'en', 'type': 'literal', 'value': 'Sarah Bagley'}}\n",
      "{'item': {'type': 'uri', 'value': 'http://www.wikidata.org/entity/Q18938'}, 'image': {'type': 'uri', 'value': 'http://commons.wikimedia.org/wiki/Special:FilePath/Thomas%20Jane%202019%20by%20Glenn%20Francis.jpg'}, 'itemLabel': {'xml:lang': 'en', 'type': 'literal', 'value': 'Thomas Jane'}}\n",
      "{'item': {'type': 'uri', 'value': 'http://www.wikidata.org/entity/Q21623'}, 'image': {'type': 'uri', 'value': 'http://commons.wikimedia.org/wiki/Special:FilePath/Alicia%20ostriker%203206.JPG'}, 'itemLabel': {'xml:lang': 'en', 'type': 'literal', 'value': 'Alicia Ostriker'}}\n",
      "{'item': {'type': 'uri', 'value': 'http://www.wikidata.org/entity/Q22677'}, 'image': {'type': 'uri', 'value': 'http://commons.wikimedia.org/wiki/Special:FilePath/Michael%20Hart%20at%20HOPE%20Conference%20%28cropped%29.jpg'}, 'itemLabel': {'xml:lang': 'en', 'type': 'literal', 'value': 'Michael S. Hart'}}\n",
      "{'item': {'type': 'uri', 'value': 'http://www.wikidata.org/entity/Q23437'}, 'itemLabel': {'xml:lang': 'en', 'type': 'literal', 'value': 'William Hirstein'}}\n"
     ]
    }
   ],
   "source": [
    "# pip install sparqlwrapper\n",
    "# https://rdflib.github.io/sparqlwrapper/\n",
    "\n",
    "import sys\n",
    "from SPARQLWrapper import SPARQLWrapper, JSON\n",
    "\n",
    "from PIL import Image\n",
    "import requests\n",
    "\n",
    "endpoint_url = \"https://query.wikidata.org/sparql\"\n",
    "\n",
    "query = \"\"\"#authors with country of citizenship United States who do not have a Goodreads identifier\n",
    "SELECT ?item ?itemLabel ?image WHERE {\n",
    "  ?item wdt:P31 wd:Q5;\n",
    "    wdt:P27 wd:Q30;\n",
    "    wdt:P106 wd:Q36180.\n",
    "  MINUS { ?item wdt:P2963 _:b1. }\n",
    "  SERVICE wikibase:label { bd:serviceParam wikibase:language \"[AUTO_LANGUAGE],en\". }\n",
    "  OPTIONAL { ?item wdt:P18 ?image. }\n",
    "}\n",
    "LIMIT 9\"\"\"\n",
    "\n",
    "\n",
    "def get_results(endpoint_url, query):\n",
    "    user_agent = \"WDQS-example Python/%s.%s\" % (sys.version_info[0], sys.version_info[1])\n",
    "    # TODO adjust user agent; see https://w.wiki/CX6\n",
    "    sparql = SPARQLWrapper(endpoint_url, agent=user_agent)\n",
    "    sparql.setQuery(query)\n",
    "    sparql.setReturnFormat(JSON)\n",
    "    return sparql.query().convert()\n",
    "\n",
    "\n",
    "results = get_results(endpoint_url, query)\n",
    "\n",
    "for result in results[\"results\"][\"bindings\"]:\n",
    "    print(result)\n"
   ]
  }
 ],
 "metadata": {
  "kernelspec": {
   "display_name": "Python 3",
   "language": "python",
   "name": "python3"
  },
  "language_info": {
   "codemirror_mode": {
    "name": "ipython",
    "version": 3
   },
   "file_extension": ".py",
   "mimetype": "text/x-python",
   "name": "python",
   "nbconvert_exporter": "python",
   "pygments_lexer": "ipython3",
   "version": "3.11.3"
  },
  "orig_nbformat": 4
 },
 "nbformat": 4,
 "nbformat_minor": 2
}
