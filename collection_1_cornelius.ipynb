{
 "cells": [
  {
   "cell_type": "raw",
   "metadata": {},
   "source": [
    "---\n",
    "title: \"Sample Collection Cornelius\"\n",
    "jupyter: python3\n",
    "execute:\n",
    "  echo: false\n",
    "  output: asis\n",
    "---"
   ]
  },
  {
   "attachments": {},
   "cell_type": "markdown",
   "metadata": {},
   "source": [
    "From: https://w.wiki/6aJ3 updated https://w.wiki/6crp "
   ]
  },
  {
   "cell_type": "code",
   "execution_count": 1,
   "metadata": {},
   "outputs": [
    {
     "name": "stdout",
     "output_type": "stream",
     "text": [
      "{'item': {'type': 'uri', 'value': 'http://www.wikidata.org/entity/Q91'}, 'image': {'type': 'uri', 'value': 'http://commons.wikimedia.org/wiki/Special:FilePath/Abraham%20Lincoln%20O-77%20matte%20collodion%20print.jpg'}, 'itemLabel': {'xml:lang': 'en', 'type': 'literal', 'value': 'Abraham Lincoln'}}\n",
      "{'item': {'type': 'uri', 'value': 'http://www.wikidata.org/entity/Q186'}, 'image': {'type': 'uri', 'value': 'http://commons.wikimedia.org/wiki/Special:FilePath/KenJenningsByPhilKonstantin.jpg'}, 'itemLabel': {'xml:lang': 'en', 'type': 'literal', 'value': 'Ken Jennings'}}\n",
      "{'item': {'type': 'uri', 'value': 'http://www.wikidata.org/entity/Q605'}, 'image': {'type': 'uri', 'value': 'http://commons.wikimedia.org/wiki/Special:FilePath/Ezra%20Klein%20in%202020%20cropped.jpg'}, 'itemLabel': {'xml:lang': 'en', 'type': 'literal', 'value': 'Ezra Klein'}}\n",
      "{'item': {'type': 'uri', 'value': 'http://www.wikidata.org/entity/Q607'}, 'image': {'type': 'uri', 'value': 'http://commons.wikimedia.org/wiki/Special:FilePath/Mike%20Bloomberg%20Headshot.jpg'}, 'itemLabel': {'xml:lang': 'en', 'type': 'literal', 'value': 'Michael Bloomberg'}}\n",
      "{'item': {'type': 'uri', 'value': 'http://www.wikidata.org/entity/Q1379'}, 'image': {'type': 'uri', 'value': 'http://commons.wikimedia.org/wiki/Special:FilePath/Gary%20Gygax%20Gen%20Con%202007.JPG'}, 'itemLabel': {'xml:lang': 'en', 'type': 'literal', 'value': 'Gary Gygax'}}\n",
      "{'item': {'type': 'uri', 'value': 'http://www.wikidata.org/entity/Q1618'}, 'image': {'type': 'uri', 'value': 'http://commons.wikimedia.org/wiki/Special:FilePath/Col%20Charles%20Lindbergh.jpg'}, 'itemLabel': {'xml:lang': 'en', 'type': 'literal', 'value': 'Charles Lindbergh'}}\n",
      "{'item': {'type': 'uri', 'value': 'http://www.wikidata.org/entity/Q1779'}, 'image': {'type': 'uri', 'value': 'http://commons.wikimedia.org/wiki/Special:FilePath/Louis%20Armstrong%20restored.jpg'}, 'itemLabel': {'xml:lang': 'en', 'type': 'literal', 'value': 'Louis Armstrong'}}\n",
      "{'item': {'type': 'uri', 'value': 'http://www.wikidata.org/entity/Q2071'}, 'image': {'type': 'uri', 'value': 'http://commons.wikimedia.org/wiki/Special:FilePath/David%20Lynch%20Cannes%202017.jpg'}, 'itemLabel': {'xml:lang': 'en', 'type': 'literal', 'value': 'David Lynch'}}\n",
      "{'item': {'type': 'uri', 'value': 'http://www.wikidata.org/entity/Q2673'}, 'image': {'type': 'uri', 'value': 'http://commons.wikimedia.org/wiki/Special:FilePath/Chuck%20Norris%20May%202015.jpg'}, 'itemLabel': {'xml:lang': 'en', 'type': 'literal', 'value': 'Chuck Norris'}}\n"
     ]
    }
   ],
   "source": [
    "# pip install sparqlwrapper\n",
    "# https://rdflib.github.io/sparqlwrapper/\n",
    "\n",
    "import sys\n",
    "from SPARQLWrapper import SPARQLWrapper, JSON\n",
    "\n",
    "from PIL import Image\n",
    "import requests\n",
    "\n",
    "endpoint_url = \"https://query.wikidata.org/sparql\"\n",
    "\n",
    "query = \"\"\"#authors with country of citizenship United States who do not have a Goodreads identifier\n",
    "SELECT ?item ?itemLabel ?image WHERE {\n",
    "  ?item wdt:P31 wd:Q5;\n",
    "    wdt:P27 wd:Q30;\n",
    "    wdt:P106 wd:Q36180.\n",
    "  MINUS { ?item wdt:P2963 _:b1. }\n",
    "  SERVICE wikibase:label { bd:serviceParam wikibase:language \"[AUTO_LANGUAGE],en\". }\n",
    "  OPTIONAL { ?item wdt:P18 ?image. }\n",
    "}\n",
    "LIMIT 9\"\"\"\n",
    "\n",
    "\n",
    "def get_results(endpoint_url, query):\n",
    "    user_agent = \"WDQS-example Python/%s.%s\" % (sys.version_info[0], sys.version_info[1])\n",
    "    # TODO adjust user agent; see https://w.wiki/CX6\n",
    "    sparql = SPARQLWrapper(endpoint_url, agent=user_agent)\n",
    "    sparql.setQuery(query)\n",
    "    sparql.setReturnFormat(JSON)\n",
    "    return sparql.query().convert()\n",
    "\n",
    "\n",
    "results = get_results(endpoint_url, query)\n",
    "\n",
    "for result in results[\"results\"][\"bindings\"]:\n",
    "    print(result)\n"
   ]
  }
 ],
 "metadata": {
  "kernelspec": {
   "display_name": "Python 3",
   "language": "python",
   "name": "python3"
  },
  "language_info": {
   "codemirror_mode": {
    "name": "ipython",
    "version": 3
   },
   "file_extension": ".py",
   "mimetype": "text/x-python",
   "name": "python",
   "nbconvert_exporter": "python",
   "pygments_lexer": "ipython3",
   "version": "3.9.5"
  },
  "orig_nbformat": 4
 },
 "nbformat": 4,
 "nbformat_minor": 2
}
