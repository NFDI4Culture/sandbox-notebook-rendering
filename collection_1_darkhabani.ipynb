{
 "cells": [
  {
   "cell_type": "raw",
   "metadata": {},
   "source": [
    "---\n",
    "title: \"Sample Collection Darkhabani\"\n",
    "jupyter: python3\n",
    "execute:\n",
    "  echo: false\n",
    "  output: asis\n",
    "---"
   ]
  },
  {
   "attachments": {},
   "cell_type": "markdown",
   "metadata": {},
   "source": [
    "From: https://w.wiki/6aKG"
   ]
  },
  {
   "cell_type": "code",
   "execution_count": 1,
   "metadata": {},
   "outputs": [
    {
     "name": "stdout",
     "output_type": "stream",
     "text": [
      "{'item': {'type': 'uri', 'value': 'http://www.wikidata.org/entity/Q609576'}, 'image': {'type': 'uri', 'value': 'http://commons.wikimedia.org/wiki/Special:FilePath/Anthonis%20van%20Dyck%20004.jpg'}, 'Urheberrechtsstatus': {'type': 'uri', 'value': 'http://www.wikidata.org/entity/Q19652'}, 'UrheberrechtsstatusLabel': {'xml:lang': 'en', 'type': 'literal', 'value': 'public domain'}}\n",
      "{'item': {'type': 'uri', 'value': 'http://www.wikidata.org/entity/Q609576'}, 'image': {'type': 'uri', 'value': 'http://commons.wikimedia.org/wiki/Special:FilePath/Anthony%20van%20Dyck%20-%20Crowning%20with%20Thorns%20-%20WGA07433.jpg'}, 'Urheberrechtsstatus': {'type': 'uri', 'value': 'http://www.wikidata.org/entity/Q19652'}, 'UrheberrechtsstatusLabel': {'xml:lang': 'en', 'type': 'literal', 'value': 'public domain'}}\n",
      "{'item': {'type': 'uri', 'value': 'http://www.wikidata.org/entity/Q609986'}, 'image': {'type': 'uri', 'value': 'http://commons.wikimedia.org/wiki/Special:FilePath/Retrat%20d%27Elisa%20Casas.jpg'}, 'Urheberrechtsstatus': {'type': 'uri', 'value': 'http://www.wikidata.org/entity/Q19652'}, 'UrheberrechtsstatusLabel': {'xml:lang': 'en', 'type': 'literal', 'value': 'public domain'}}\n",
      "{'item': {'type': 'uri', 'value': 'http://www.wikidata.org/entity/Q610803'}}\n",
      "{'item': {'type': 'uri', 'value': 'http://www.wikidata.org/entity/Q611358'}}\n",
      "{'item': {'type': 'uri', 'value': 'http://www.wikidata.org/entity/Q611583'}, 'image': {'type': 'uri', 'value': 'http://commons.wikimedia.org/wiki/Special:FilePath/Rubens%20peace-war.jpg'}, 'Urheberrechtsstatus': {'type': 'uri', 'value': 'http://www.wikidata.org/entity/Q19652'}, 'UrheberrechtsstatusLabel': {'xml:lang': 'en', 'type': 'literal', 'value': 'public domain'}}\n",
      "{'item': {'type': 'uri', 'value': 'http://www.wikidata.org/entity/Q611609'}}\n",
      "{'item': {'type': 'uri', 'value': 'http://www.wikidata.org/entity/Q611945'}}\n",
      "{'item': {'type': 'uri', 'value': 'http://www.wikidata.org/entity/Q613390'}, 'image': {'type': 'uri', 'value': 'http://commons.wikimedia.org/wiki/Special:FilePath/Jeunes%20Filles%20en%20noir%20by%20Pierre-Auguste%20Renoir%20159.jpg'}, 'Urheberrechtsstatus': {'type': 'uri', 'value': 'http://www.wikidata.org/entity/Q19652'}, 'UrheberrechtsstatusLabel': {'xml:lang': 'en', 'type': 'literal', 'value': 'public domain'}}\n",
      "{'item': {'type': 'uri', 'value': 'http://www.wikidata.org/entity/Q613928'}, 'image': {'type': 'uri', 'value': 'http://commons.wikimedia.org/wiki/Special:FilePath/David%20-%20Portrait%20of%20Monsieur%20Lavoisier%20and%20His%20Wife.jpg'}, 'Urheberrechtsstatus': {'type': 'uri', 'value': 'http://www.wikidata.org/entity/Q19652'}, 'UrheberrechtsstatusLabel': {'xml:lang': 'en', 'type': 'literal', 'value': 'public domain'}}\n",
      "{'item': {'type': 'uri', 'value': 'http://www.wikidata.org/entity/Q614047'}, 'image': {'type': 'uri', 'value': 'http://commons.wikimedia.org/wiki/Special:FilePath/Vermeer%20-%20Girl%20with%20a%20Red%20Hat.JPG'}, 'Urheberrechtsstatus': {'type': 'uri', 'value': 'http://www.wikidata.org/entity/Q19652'}, 'UrheberrechtsstatusLabel': {'xml:lang': 'en', 'type': 'literal', 'value': 'public domain'}}\n",
      "{'item': {'type': 'uri', 'value': 'http://www.wikidata.org/entity/Q614986'}, 'image': {'type': 'uri', 'value': 'http://commons.wikimedia.org/wiki/Special:FilePath/Paul%20Cezanne%2C%20A%20Modern%20Olympia%2C%20c.%201873-1874.jpg'}, 'Urheberrechtsstatus': {'type': 'uri', 'value': 'http://www.wikidata.org/entity/Q19652'}, 'UrheberrechtsstatusLabel': {'xml:lang': 'en', 'type': 'literal', 'value': 'public domain'}}\n",
      "{'item': {'type': 'uri', 'value': 'http://www.wikidata.org/entity/Q615851'}, 'image': {'type': 'uri', 'value': 'http://commons.wikimedia.org/wiki/Special:FilePath/Robert%20Campin%20003.jpg'}, 'Urheberrechtsstatus': {'type': 'uri', 'value': 'http://www.wikidata.org/entity/Q19652'}, 'UrheberrechtsstatusLabel': {'xml:lang': 'en', 'type': 'literal', 'value': 'public domain'}}\n",
      "{'item': {'type': 'uri', 'value': 'http://www.wikidata.org/entity/Q617629'}, 'image': {'type': 'uri', 'value': 'http://commons.wikimedia.org/wiki/Special:FilePath/Resurreccion%20Prado.jpg'}, 'Urheberrechtsstatus': {'type': 'uri', 'value': 'http://www.wikidata.org/entity/Q19652'}, 'UrheberrechtsstatusLabel': {'xml:lang': 'en', 'type': 'literal', 'value': 'public domain'}}\n",
      "{'item': {'type': 'uri', 'value': 'http://www.wikidata.org/entity/Q618901'}, 'image': {'type': 'uri', 'value': 'http://commons.wikimedia.org/wiki/Special:FilePath/Kersting%20-%20Apoll%20mit%20den%20Stunden.jpg'}, 'Urheberrechtsstatus': {'type': 'uri', 'value': 'http://www.wikidata.org/entity/Q19652'}, 'UrheberrechtsstatusLabel': {'xml:lang': 'en', 'type': 'literal', 'value': 'public domain'}}\n"
     ]
    }
   ],
   "source": [
    "# pip install sparqlwrapper\n",
    "# https://rdflib.github.io/sparqlwrapper/\n",
    "\n",
    "import sys\n",
    "from SPARQLWrapper import SPARQLWrapper, JSON\n",
    "\n",
    "from PIL import Image\n",
    "import requests\n",
    "\n",
    "endpoint_url = \"https://query.wikidata.org/sparql\"\n",
    "\n",
    "query = \"\"\"#defaultView:ImageGrid\n",
    "SELECT ?item ?image ?Urheberrechtsstatus ?UrheberrechtsstatusLabel WHERE {\n",
    "  ?item wdt:P31 wd:Q3305213.\n",
    "  SERVICE wikibase:label { bd:serviceParam wikibase:language \"[AUTO_LANGUAGE],en\". }\n",
    "  OPTIONAL { ?item wdt:P18 ?image. }\n",
    "  OPTIONAL { ?item wdt:P6216 ?Urheberrechtsstatus. }\n",
    "}\n",
    "LIMIT 15\"\"\"\n",
    "\n",
    "\n",
    "def get_results(endpoint_url, query):\n",
    "    user_agent = \"WDQS-example Python/%s.%s\" % (sys.version_info[0], sys.version_info[1])\n",
    "    # TODO adjust user agent; see https://w.wiki/CX6\n",
    "    sparql = SPARQLWrapper(endpoint_url, agent=user_agent)\n",
    "    sparql.setQuery(query)\n",
    "    sparql.setReturnFormat(JSON)\n",
    "    return sparql.query().convert()\n",
    "\n",
    "\n",
    "results = get_results(endpoint_url, query)\n",
    "\n",
    "for result in results[\"results\"][\"bindings\"]:\n",
    "    print(result)\n"
   ]
  }
 ],
 "metadata": {
  "kernelspec": {
   "display_name": "Python 3",
   "language": "python",
   "name": "python3"
  },
  "language_info": {
   "codemirror_mode": {
    "name": "ipython",
    "version": 3
   },
   "file_extension": ".py",
   "mimetype": "text/x-python",
   "name": "python",
   "nbconvert_exporter": "python",
   "pygments_lexer": "ipython3",
   "version": "3.9.5"
  },
  "orig_nbformat": 4
 },
 "nbformat": 4,
 "nbformat_minor": 2
}
